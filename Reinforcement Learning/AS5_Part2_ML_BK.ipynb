{
  "nbformat": 4,
  "nbformat_minor": 0,
  "metadata": {
    "colab": {
      "provenance": [],
      "gpuType": "T4"
    },
    "kernelspec": {
      "name": "python3",
      "display_name": "Python 3"
    },
    "language_info": {
      "name": "python"
    },
    "accelerator": "GPU"
  },
  "cells": [
    {
      "cell_type": "code",
      "source": [
        "!pip install \"gym[atari, accept-rom-license]\""
      ],
      "metadata": {
        "colab": {
          "base_uri": "https://localhost:8080/"
        },
        "id": "eiWUhnQ83NXa",
        "outputId": "013befa7-26c4-4769-810c-53d6afcaa64f"
      },
      "execution_count": 1,
      "outputs": [
        {
          "output_type": "stream",
          "name": "stdout",
          "text": [
            "Requirement already satisfied: gym[accept-rom-license,atari] in /usr/local/lib/python3.11/dist-packages (0.26.2)\n",
            "Requirement already satisfied: numpy>=1.18.0 in /usr/local/lib/python3.11/dist-packages (from gym[accept-rom-license,atari]) (2.0.2)\n",
            "Requirement already satisfied: cloudpickle>=1.2.0 in /usr/local/lib/python3.11/dist-packages (from gym[accept-rom-license,atari]) (3.1.1)\n",
            "Requirement already satisfied: gym_notices>=0.0.4 in /usr/local/lib/python3.11/dist-packages (from gym[accept-rom-license,atari]) (0.0.8)\n",
            "Requirement already satisfied: ale-py~=0.8.0 in /usr/local/lib/python3.11/dist-packages (from gym[accept-rom-license,atari]) (0.8.1)\n",
            "Requirement already satisfied: autorom~=0.4.2 in /usr/local/lib/python3.11/dist-packages (from autorom[accept-rom-license]~=0.4.2; extra == \"accept-rom-license\"->gym[accept-rom-license,atari]) (0.4.2)\n",
            "Requirement already satisfied: importlib-resources in /usr/local/lib/python3.11/dist-packages (from ale-py~=0.8.0->gym[accept-rom-license,atari]) (6.5.2)\n",
            "Requirement already satisfied: click in /usr/local/lib/python3.11/dist-packages (from autorom~=0.4.2->autorom[accept-rom-license]~=0.4.2; extra == \"accept-rom-license\"->gym[accept-rom-license,atari]) (8.1.8)\n",
            "Requirement already satisfied: requests in /usr/local/lib/python3.11/dist-packages (from autorom~=0.4.2->autorom[accept-rom-license]~=0.4.2; extra == \"accept-rom-license\"->gym[accept-rom-license,atari]) (2.32.3)\n",
            "Requirement already satisfied: tqdm in /usr/local/lib/python3.11/dist-packages (from autorom~=0.4.2->autorom[accept-rom-license]~=0.4.2; extra == \"accept-rom-license\"->gym[accept-rom-license,atari]) (4.67.1)\n",
            "Requirement already satisfied: AutoROM.accept-rom-license in /usr/local/lib/python3.11/dist-packages (from autorom[accept-rom-license]~=0.4.2; extra == \"accept-rom-license\"->gym[accept-rom-license,atari]) (0.6.1)\n",
            "Requirement already satisfied: charset-normalizer<4,>=2 in /usr/local/lib/python3.11/dist-packages (from requests->autorom~=0.4.2->autorom[accept-rom-license]~=0.4.2; extra == \"accept-rom-license\"->gym[accept-rom-license,atari]) (3.4.1)\n",
            "Requirement already satisfied: idna<4,>=2.5 in /usr/local/lib/python3.11/dist-packages (from requests->autorom~=0.4.2->autorom[accept-rom-license]~=0.4.2; extra == \"accept-rom-license\"->gym[accept-rom-license,atari]) (3.10)\n",
            "Requirement already satisfied: urllib3<3,>=1.21.1 in /usr/local/lib/python3.11/dist-packages (from requests->autorom~=0.4.2->autorom[accept-rom-license]~=0.4.2; extra == \"accept-rom-license\"->gym[accept-rom-license,atari]) (2.4.0)\n",
            "Requirement already satisfied: certifi>=2017.4.17 in /usr/local/lib/python3.11/dist-packages (from requests->autorom~=0.4.2->autorom[accept-rom-license]~=0.4.2; extra == \"accept-rom-license\"->gym[accept-rom-license,atari]) (2025.4.26)\n"
          ]
        }
      ]
    },
    {
      "cell_type": "code",
      "source": [
        "import gym # or \"import gymnasium as gym\"\n",
        "\n",
        "if __name__ == '__main__':\n",
        "    env = gym.make(\"ALE/Breakout-v5\")"
      ],
      "metadata": {
        "id": "1lcpc5Yu3Ivr"
      },
      "execution_count": 2,
      "outputs": []
    },
    {
      "cell_type": "code",
      "source": [
        "!pip install shimmy"
      ],
      "metadata": {
        "colab": {
          "base_uri": "https://localhost:8080/"
        },
        "id": "DdEsipss3cQf",
        "outputId": "80479ec6-932a-4c4e-edb3-b70ba95e3b9c"
      },
      "execution_count": 3,
      "outputs": [
        {
          "output_type": "stream",
          "name": "stdout",
          "text": [
            "Requirement already satisfied: shimmy in /usr/local/lib/python3.11/dist-packages (2.0.0)\n",
            "Requirement already satisfied: numpy>=1.18.0 in /usr/local/lib/python3.11/dist-packages (from shimmy) (2.0.2)\n",
            "Requirement already satisfied: gymnasium>=1.0.0a1 in /usr/local/lib/python3.11/dist-packages (from shimmy) (1.1.1)\n",
            "Requirement already satisfied: cloudpickle>=1.2.0 in /usr/local/lib/python3.11/dist-packages (from gymnasium>=1.0.0a1->shimmy) (3.1.1)\n",
            "Requirement already satisfied: typing-extensions>=4.3.0 in /usr/local/lib/python3.11/dist-packages (from gymnasium>=1.0.0a1->shimmy) (4.13.2)\n",
            "Requirement already satisfied: farama-notifications>=0.0.1 in /usr/local/lib/python3.11/dist-packages (from gymnasium>=1.0.0a1->shimmy) (0.0.4)\n"
          ]
        }
      ]
    },
    {
      "cell_type": "code",
      "source": [
        "import gymnasium as gym\n",
        "import numpy as np\n",
        "import torch\n",
        "import torch.nn as nn\n",
        "import torch.optim as optim\n",
        "import random\n",
        "from collections import deque\n",
        "from tqdm import tqdm\n",
        "import matplotlib.pyplot as plt\n",
        "import seaborn as sns\n",
        "import ale_py\n",
        "# if using gymnasium\n",
        "import shimmy\n",
        "import numpy as np\n",
        "if not hasattr(np, 'bool8'):\n",
        "    np.bool8 = np.bool_\n",
        "import gym # or \"import gymnasium as gym\"\n",
        "\n",
        "# --- Hyperparameters ---\n",
        "ENV_NAME = \"ALE/BeamRider-v5\"\n",
        "SEED = 42\n",
        "GAMMA = 0.99\n",
        "LR = 1e-4\n",
        "BATCH_SIZE = 32\n",
        "MEMORY_SIZE = 100_000\n",
        "EPS_START = 1.0\n",
        "EPS_END = 0.05\n",
        "EPS_DECAY_FRAMES = 500_000\n",
        "TARGET_UPDATE_FREQ = 10_000\n",
        "NUM_EPISODES = 50\n",
        "START_TRAINING = 10_000\n",
        "STACK_SIZE = 4\n",
        "device = torch.device(\"cuda\" if torch.cuda.is_available() else \"cpu\")\n",
        "\n",
        "# --- Replay Buffer ---\n",
        "class ReplayBuffer:\n",
        "    def __init__(self, capacity):\n",
        "        self.buffer = deque(maxlen=capacity)\n",
        "    def push(self, state, action, reward, next_state, done):\n",
        "        self.buffer.append((state, action, reward, next_state, done))\n",
        "    def sample(self, batch_size):\n",
        "        batch = random.sample(self.buffer, batch_size)\n",
        "        states, actions, rewards, next_states, dones = zip(*batch)\n",
        "        return (\n",
        "            np.array(states, dtype=np.float32),\n",
        "            np.array(actions),\n",
        "            np.array(rewards, dtype=np.float32),\n",
        "            np.array(next_states, dtype=np.float32),\n",
        "            np.array(dones, dtype=np.uint8),\n",
        "        )\n",
        "    def __len__(self):\n",
        "        return len(self.buffer)\n",
        "\n",
        "# --- Double DQN Network ---\n",
        "class DQN(nn.Module):\n",
        "    def __init__(self, n_actions):\n",
        "        super().__init__()\n",
        "        self.conv = nn.Sequential(\n",
        "            nn.Conv2d(STACK_SIZE, 32, kernel_size=8, stride=4), nn.ReLU(),\n",
        "            nn.Conv2d(32, 64, kernel_size=4, stride=2), nn.ReLU(),\n",
        "            nn.Conv2d(64, 64, kernel_size=3, stride=1), nn.ReLU()\n",
        "        )\n",
        "        self.fc = nn.Sequential(\n",
        "            nn.Linear(64 * 7 * 7, 512),\n",
        "            nn.ReLU(),\n",
        "            nn.Linear(512, n_actions)\n",
        "        )\n",
        "    def forward(self, x):\n",
        "        x = self.conv(x)\n",
        "        x = x.view(x.size(0), -1)\n",
        "        return self.fc(x)\n",
        "\n",
        "def select_action(state, policy_net, epsilon, n_actions):\n",
        "    if random.random() < epsilon:\n",
        "        return random.randrange(n_actions)\n",
        "    else:\n",
        "        with torch.no_grad():\n",
        "            state = torch.tensor(state, dtype=torch.float32, device=device).unsqueeze(0)\n",
        "            q_values = policy_net(state)\n",
        "            return q_values.argmax(dim=1).item()\n",
        "\n",
        "def plot_rewards(rewards, window=10):\n",
        "    sns.set(style=\"darkgrid\")\n",
        "    plt.figure(figsize=(12,6))\n",
        "    rewards = np.array(rewards)\n",
        "    episodes = np.arange(len(rewards))\n",
        "    running_avg = np.convolve(rewards, np.ones(window)/window, mode='valid')\n",
        "    plt.plot(episodes, rewards, color='lightblue', alpha=0.3, label='Reward per episode')\n",
        "    plt.plot(episodes[window-1:], running_avg, color='blue', label=f'{window}-episode running avg')\n",
        "    # Confidence interval\n",
        "    if len(running_avg) > 10:\n",
        "        std = np.std([rewards[max(0,i-window+1):i+1] for i in range(window-1, len(rewards))], axis=1)\n",
        "        plt.fill_between(episodes[window-1:], running_avg-std, running_avg+std, color='blue', alpha=0.2)\n",
        "    plt.xlabel(\"Episode\")\n",
        "    plt.ylabel(\"Reward\")\n",
        "    plt.title(\"BeamRider: Double DQN Episode Rewards\")\n",
        "    plt.legend()\n",
        "    plt.tight_layout()\n",
        "    plt.show()\n",
        "\n",
        "def train():\n",
        "    env = gym.make(ENV_NAME, frameskip=1, render_mode=None)\n",
        "    env = gym.wrappers.AtariPreprocessing(env, frame_skip=4, grayscale_obs=True, scale_obs=True)\n",
        "    env = gym.wrappers.FrameStack(env, STACK_SIZE)\n",
        "    n_actions = env.action_space.n\n",
        "\n",
        "    policy_net = DQN(n_actions).to(device)\n",
        "    target_net = DQN(n_actions).to(device)\n",
        "    target_net.load_state_dict(policy_net.state_dict())\n",
        "    target_net.eval()\n",
        "\n",
        "    optimizer = optim.Adam(policy_net.parameters(), lr=LR)\n",
        "    replay_buffer = ReplayBuffer(MEMORY_SIZE)\n",
        "\n",
        "    epsilon = EPS_START\n",
        "    epsilon_decay = (EPS_START - EPS_END) / EPS_DECAY_FRAMES\n",
        "\n",
        "    episode_rewards = []\n",
        "    frame_idx = 0\n",
        "\n",
        "    state, _ = env.reset(seed=SEED)\n",
        "    state = np.array(state)\n",
        "    pbar = tqdm(total=NUM_EPISODES)\n",
        "    for episode in range(NUM_EPISODES):\n",
        "        episode_reward = 0\n",
        "        done = False\n",
        "        state, _ = env.reset()\n",
        "        state = np.array(state)\n",
        "        while not done:\n",
        "            action = select_action(state, policy_net, epsilon, n_actions)\n",
        "            next_state, reward, terminated, truncated, _ = env.step(action)\n",
        "            done = terminated or truncated\n",
        "            next_state = np.array(next_state)\n",
        "            replay_buffer.push(state, action, reward, next_state, done)\n",
        "            state = next_state\n",
        "            episode_reward += reward\n",
        "            frame_idx += 1\n",
        "            epsilon = max(EPS_END, epsilon - epsilon_decay)\n",
        "\n",
        "            # Training step\n",
        "            if len(replay_buffer) > START_TRAINING:\n",
        "                states, actions, rewards_b, next_states, dones = replay_buffer.sample(BATCH_SIZE)\n",
        "                states = torch.tensor(states, dtype=torch.float32, device=device)\n",
        "                actions = torch.tensor(actions, dtype=torch.int64, device=device).unsqueeze(1)\n",
        "                rewards_b = torch.tensor(rewards_b, dtype=torch.float32, device=device).unsqueeze(1)\n",
        "                next_states = torch.tensor(next_states, dtype=torch.float32, device=device)\n",
        "                dones = torch.tensor(dones, dtype=torch.float32, device=device).unsqueeze(1)\n",
        "\n",
        "                # Double DQN update\n",
        "                q_values = policy_net(states).gather(1, actions)\n",
        "                with torch.no_grad():\n",
        "                    next_actions = policy_net(next_states).argmax(1, keepdim=True)\n",
        "                    next_q_values = target_net(next_states).gather(1, next_actions)\n",
        "                    target_q_values = rewards_b + GAMMA * next_q_values * (1 - dones)\n",
        "                loss = nn.MSELoss()(q_values, target_q_values)\n",
        "\n",
        "                optimizer.zero_grad()\n",
        "                loss.backward()\n",
        "                optimizer.step()\n",
        "\n",
        "                if frame_idx % TARGET_UPDATE_FREQ == 0:\n",
        "                    target_net.load_state_dict(policy_net.state_dict())\n",
        "\n",
        "        episode_rewards.append(episode_reward)\n",
        "        # Print statistics\n",
        "        window = 10\n",
        "        recent = episode_rewards[-window:]\n",
        "        print(f\"Episode {episode+1:4d} | Reward: {episode_reward:6.1f} | \"\n",
        "              f\"Mean(last {window}): {np.mean(recent):7.2f} | \"\n",
        "              f\"Std: {np.std(recent):6.2f} | Min: {np.min(recent):6.1f} | Max: {np.max(recent):6.1f} | Epsilon: {epsilon:.3f}\")\n",
        "        pbar.update(1)\n",
        "    pbar.close()\n",
        "    env.close()\n",
        "    plot_rewards(episode_rewards, window=10)\n",
        "\n",
        "if __name__ == \"__main__\":\n",
        "    train()\n"
      ],
      "metadata": {
        "colab": {
          "base_uri": "https://localhost:8080/",
          "height": 1000
        },
        "id": "z9B67hsIv34g",
        "outputId": "599d1083-d1fb-4573-e90c-72fb7bf6b462"
      },
      "execution_count": 4,
      "outputs": [
        {
          "output_type": "stream",
          "name": "stderr",
          "text": [
            "  2%|▏         | 1/50 [00:02<01:53,  2.31s/it]"
          ]
        },
        {
          "output_type": "stream",
          "name": "stdout",
          "text": [
            "Episode    1 | Reward:  528.0 | Mean(last 10):  528.00 | Std:   0.00 | Min:  528.0 | Max:  528.0 | Epsilon: 0.997\n"
          ]
        },
        {
          "output_type": "stream",
          "name": "stderr",
          "text": [
            "\r  4%|▍         | 2/50 [00:04<01:39,  2.07s/it]"
          ]
        },
        {
          "output_type": "stream",
          "name": "stdout",
          "text": [
            "Episode    2 | Reward:  616.0 | Mean(last 10):  572.00 | Std:  44.00 | Min:  528.0 | Max:  616.0 | Epsilon: 0.994\n"
          ]
        },
        {
          "output_type": "stream",
          "name": "stderr",
          "text": [
            "\r  6%|▌         | 3/50 [00:05<01:27,  1.85s/it]"
          ]
        },
        {
          "output_type": "stream",
          "name": "stdout",
          "text": [
            "Episode    3 | Reward:  352.0 | Mean(last 10):  498.67 | Std: 109.76 | Min:  352.0 | Max:  616.0 | Epsilon: 0.991\n"
          ]
        },
        {
          "output_type": "stream",
          "name": "stderr",
          "text": [
            "\r  8%|▊         | 4/50 [00:07<01:15,  1.64s/it]"
          ]
        },
        {
          "output_type": "stream",
          "name": "stdout",
          "text": [
            "Episode    4 | Reward:  484.0 | Mean(last 10):  495.00 | Std:  95.26 | Min:  352.0 | Max:  616.0 | Epsilon: 0.989\n"
          ]
        },
        {
          "output_type": "stream",
          "name": "stderr",
          "text": [
            "\r 10%|█         | 5/50 [00:08<01:09,  1.55s/it]"
          ]
        },
        {
          "output_type": "stream",
          "name": "stdout",
          "text": [
            "Episode    5 | Reward:  440.0 | Mean(last 10):  484.00 | Std:  88.00 | Min:  352.0 | Max:  616.0 | Epsilon: 0.986\n"
          ]
        },
        {
          "output_type": "stream",
          "name": "stderr",
          "text": [
            "\r 12%|█▏        | 6/50 [00:09<01:02,  1.41s/it]"
          ]
        },
        {
          "output_type": "stream",
          "name": "stdout",
          "text": [
            "Episode    6 | Reward:   88.0 | Mean(last 10):  418.00 | Std: 168.03 | Min:   88.0 | Max:  616.0 | Epsilon: 0.984\n"
          ]
        },
        {
          "output_type": "stream",
          "name": "stderr",
          "text": [
            "\r 14%|█▍        | 7/50 [00:11<01:09,  1.62s/it]"
          ]
        },
        {
          "output_type": "stream",
          "name": "stdout",
          "text": [
            "Episode    7 | Reward:  264.0 | Mean(last 10):  396.00 | Std: 164.63 | Min:   88.0 | Max:  616.0 | Epsilon: 0.982\n"
          ]
        },
        {
          "output_type": "stream",
          "name": "stderr",
          "text": [
            "\r 16%|█▌        | 8/50 [00:17<02:08,  3.06s/it]"
          ]
        },
        {
          "output_type": "stream",
          "name": "stdout",
          "text": [
            "Episode    8 | Reward:  264.0 | Mean(last 10):  379.50 | Std: 160.07 | Min:   88.0 | Max:  616.0 | Epsilon: 0.980\n"
          ]
        },
        {
          "output_type": "stream",
          "name": "stderr",
          "text": [
            "\r 18%|█▊        | 9/50 [00:28<03:48,  5.58s/it]"
          ]
        },
        {
          "output_type": "stream",
          "name": "stdout",
          "text": [
            "Episode    9 | Reward:  308.0 | Mean(last 10):  371.56 | Std: 152.58 | Min:   88.0 | Max:  616.0 | Epsilon: 0.977\n"
          ]
        },
        {
          "output_type": "stream",
          "name": "stderr",
          "text": [
            "\r 20%|██        | 10/50 [00:39<04:46,  7.16s/it]"
          ]
        },
        {
          "output_type": "stream",
          "name": "stdout",
          "text": [
            "Episode   10 | Reward:  396.0 | Mean(last 10):  374.00 | Std: 144.93 | Min:   88.0 | Max:  616.0 | Epsilon: 0.974\n"
          ]
        },
        {
          "output_type": "stream",
          "name": "stderr",
          "text": [
            "\r 22%|██▏       | 11/50 [00:49<05:09,  7.94s/it]"
          ]
        },
        {
          "output_type": "stream",
          "name": "stdout",
          "text": [
            "Episode   11 | Reward:  396.0 | Mean(last 10):  360.80 | Std: 136.04 | Min:   88.0 | Max:  616.0 | Epsilon: 0.972\n"
          ]
        },
        {
          "output_type": "stream",
          "name": "stderr",
          "text": [
            "\r 24%|██▍       | 12/50 [00:59<05:31,  8.73s/it]"
          ]
        },
        {
          "output_type": "stream",
          "name": "stdout",
          "text": [
            "Episode   12 | Reward:  572.0 | Mean(last 10):  356.40 | Std: 128.21 | Min:   88.0 | Max:  572.0 | Epsilon: 0.969\n"
          ]
        },
        {
          "output_type": "stream",
          "name": "stderr",
          "text": [
            "\r 26%|██▌       | 13/50 [01:13<06:20, 10.29s/it]"
          ]
        },
        {
          "output_type": "stream",
          "name": "stdout",
          "text": [
            "Episode   13 | Reward:  484.0 | Mean(last 10):  369.60 | Std: 133.75 | Min:   88.0 | Max:  572.0 | Epsilon: 0.966\n"
          ]
        },
        {
          "output_type": "stream",
          "name": "stderr",
          "text": [
            "\r 28%|██▊       | 14/50 [01:25<06:28, 10.80s/it]"
          ]
        },
        {
          "output_type": "stream",
          "name": "stdout",
          "text": [
            "Episode   14 | Reward:  708.0 | Mean(last 10):  392.00 | Std: 165.92 | Min:   88.0 | Max:  708.0 | Epsilon: 0.963\n"
          ]
        },
        {
          "output_type": "stream",
          "name": "stderr",
          "text": [
            "\r 30%|███       | 15/50 [01:37<06:23, 10.94s/it]"
          ]
        },
        {
          "output_type": "stream",
          "name": "stdout",
          "text": [
            "Episode   15 | Reward:  352.0 | Mean(last 10):  383.20 | Std: 165.47 | Min:   88.0 | Max:  708.0 | Epsilon: 0.960\n"
          ]
        },
        {
          "output_type": "stream",
          "name": "stderr",
          "text": [
            "\r 32%|███▏      | 16/50 [01:45<05:49, 10.29s/it]"
          ]
        },
        {
          "output_type": "stream",
          "name": "stdout",
          "text": [
            "Episode   16 | Reward:  264.0 | Mean(last 10):  400.80 | Std: 140.64 | Min:  264.0 | Max:  708.0 | Epsilon: 0.958\n"
          ]
        },
        {
          "output_type": "stream",
          "name": "stderr",
          "text": [
            "\r 34%|███▍      | 17/50 [01:55<05:37, 10.22s/it]"
          ]
        },
        {
          "output_type": "stream",
          "name": "stdout",
          "text": [
            "Episode   17 | Reward:  264.0 | Mean(last 10):  400.80 | Std: 140.64 | Min:  264.0 | Max:  708.0 | Epsilon: 0.955\n"
          ]
        },
        {
          "output_type": "stream",
          "name": "stderr",
          "text": [
            "\r 36%|███▌      | 18/50 [02:04<05:09,  9.68s/it]"
          ]
        },
        {
          "output_type": "stream",
          "name": "stdout",
          "text": [
            "Episode   18 | Reward:  220.0 | Mean(last 10):  396.40 | Std: 145.45 | Min:  220.0 | Max:  708.0 | Epsilon: 0.953\n"
          ]
        },
        {
          "output_type": "stream",
          "name": "stderr",
          "text": [
            "\r 38%|███▊      | 19/50 [02:14<05:08,  9.94s/it]"
          ]
        },
        {
          "output_type": "stream",
          "name": "stdout",
          "text": [
            "Episode   19 | Reward:  440.0 | Mean(last 10):  409.60 | Std: 142.80 | Min:  220.0 | Max:  708.0 | Epsilon: 0.951\n"
          ]
        },
        {
          "output_type": "stream",
          "name": "stderr",
          "text": [
            "\r 40%|████      | 20/50 [02:30<05:54, 11.80s/it]"
          ]
        },
        {
          "output_type": "stream",
          "name": "stdout",
          "text": [
            "Episode   20 | Reward:  804.0 | Mean(last 10):  450.40 | Std: 185.10 | Min:  220.0 | Max:  804.0 | Epsilon: 0.947\n"
          ]
        },
        {
          "output_type": "stream",
          "name": "stderr",
          "text": [
            "\r 42%|████▏     | 21/50 [02:39<05:13, 10.83s/it]"
          ]
        },
        {
          "output_type": "stream",
          "name": "stdout",
          "text": [
            "Episode   21 | Reward:  176.0 | Mean(last 10):  428.40 | Std: 202.52 | Min:  176.0 | Max:  804.0 | Epsilon: 0.945\n"
          ]
        },
        {
          "output_type": "stream",
          "name": "stderr",
          "text": [
            "\r 44%|████▍     | 22/50 [02:53<05:30, 11.80s/it]"
          ]
        },
        {
          "output_type": "stream",
          "name": "stdout",
          "text": [
            "Episode   22 | Reward:  616.0 | Mean(last 10):  432.80 | Std: 206.04 | Min:  176.0 | Max:  804.0 | Epsilon: 0.941\n"
          ]
        },
        {
          "output_type": "stream",
          "name": "stderr",
          "text": [
            "\r 46%|████▌     | 23/50 [03:03<05:01, 11.15s/it]"
          ]
        },
        {
          "output_type": "stream",
          "name": "stdout",
          "text": [
            "Episode   23 | Reward:  484.0 | Mean(last 10):  432.80 | Std: 206.04 | Min:  176.0 | Max:  804.0 | Epsilon: 0.939\n"
          ]
        },
        {
          "output_type": "stream",
          "name": "stderr",
          "text": [
            "\r 48%|████▊     | 24/50 [03:14<04:54, 11.32s/it]"
          ]
        },
        {
          "output_type": "stream",
          "name": "stdout",
          "text": [
            "Episode   24 | Reward:  440.0 | Mean(last 10):  406.00 | Std: 184.84 | Min:  176.0 | Max:  804.0 | Epsilon: 0.936\n"
          ]
        },
        {
          "output_type": "stream",
          "name": "stderr",
          "text": [
            "\r 50%|█████     | 25/50 [03:24<04:30, 10.82s/it]"
          ]
        },
        {
          "output_type": "stream",
          "name": "stdout",
          "text": [
            "Episode   25 | Reward:  484.0 | Mean(last 10):  419.20 | Std: 185.22 | Min:  176.0 | Max:  804.0 | Epsilon: 0.934\n"
          ]
        },
        {
          "output_type": "stream",
          "name": "stderr",
          "text": [
            "\r 52%|█████▏    | 26/50 [03:33<04:09, 10.38s/it]"
          ]
        },
        {
          "output_type": "stream",
          "name": "stdout",
          "text": [
            "Episode   26 | Reward:  264.0 | Mean(last 10):  419.20 | Std: 185.22 | Min:  176.0 | Max:  804.0 | Epsilon: 0.931\n"
          ]
        },
        {
          "output_type": "stream",
          "name": "stderr",
          "text": [
            "\r 54%|█████▍    | 27/50 [03:48<04:26, 11.57s/it]"
          ]
        },
        {
          "output_type": "stream",
          "name": "stdout",
          "text": [
            "Episode   27 | Reward:  528.0 | Mean(last 10):  445.60 | Std: 179.96 | Min:  176.0 | Max:  804.0 | Epsilon: 0.928\n"
          ]
        },
        {
          "output_type": "stream",
          "name": "stderr",
          "text": [
            "\r 56%|█████▌    | 28/50 [03:58<04:08, 11.28s/it]"
          ]
        },
        {
          "output_type": "stream",
          "name": "stdout",
          "text": [
            "Episode   28 | Reward:  440.0 | Mean(last 10):  467.60 | Std: 163.75 | Min:  176.0 | Max:  804.0 | Epsilon: 0.925\n"
          ]
        },
        {
          "output_type": "stream",
          "name": "stderr",
          "text": [
            "\r 58%|█████▊    | 29/50 [04:09<03:54, 11.17s/it]"
          ]
        },
        {
          "output_type": "stream",
          "name": "stdout",
          "text": [
            "Episode   29 | Reward:  352.0 | Mean(last 10):  458.80 | Std: 167.32 | Min:  176.0 | Max:  804.0 | Epsilon: 0.923\n"
          ]
        },
        {
          "output_type": "stream",
          "name": "stderr",
          "text": [
            "\r 60%|██████    | 30/50 [04:16<03:18,  9.92s/it]"
          ]
        },
        {
          "output_type": "stream",
          "name": "stdout",
          "text": [
            "Episode   30 | Reward:  176.0 | Mean(last 10):  396.00 | Std: 141.90 | Min:  176.0 | Max:  616.0 | Epsilon: 0.921\n"
          ]
        },
        {
          "output_type": "stream",
          "name": "stderr",
          "text": [
            "\r 62%|██████▏   | 31/50 [04:29<03:22, 10.68s/it]"
          ]
        },
        {
          "output_type": "stream",
          "name": "stdout",
          "text": [
            "Episode   31 | Reward:  528.0 | Mean(last 10):  431.20 | Std: 125.69 | Min:  176.0 | Max:  616.0 | Epsilon: 0.918\n"
          ]
        },
        {
          "output_type": "stream",
          "name": "stderr",
          "text": [
            "\r 64%|██████▍   | 32/50 [04:39<03:09, 10.50s/it]"
          ]
        },
        {
          "output_type": "stream",
          "name": "stdout",
          "text": [
            "Episode   32 | Reward:  308.0 | Mean(last 10):  400.40 | Std: 113.81 | Min:  176.0 | Max:  528.0 | Epsilon: 0.915\n"
          ]
        },
        {
          "output_type": "stream",
          "name": "stderr",
          "text": [
            "\r 66%|██████▌   | 33/50 [04:47<02:46,  9.81s/it]"
          ]
        },
        {
          "output_type": "stream",
          "name": "stdout",
          "text": [
            "Episode   33 | Reward:  396.0 | Mean(last 10):  391.60 | Std: 110.35 | Min:  176.0 | Max:  528.0 | Epsilon: 0.913\n"
          ]
        },
        {
          "output_type": "stream",
          "name": "stderr",
          "text": [
            "\r 68%|██████▊   | 34/50 [04:56<02:31,  9.48s/it]"
          ]
        },
        {
          "output_type": "stream",
          "name": "stdout",
          "text": [
            "Episode   34 | Reward:  132.0 | Mean(last 10):  360.80 | Std: 133.17 | Min:  132.0 | Max:  528.0 | Epsilon: 0.911\n"
          ]
        },
        {
          "output_type": "stream",
          "name": "stderr",
          "text": [
            "\r 70%|███████   | 35/50 [05:07<02:29,  9.97s/it]"
          ]
        },
        {
          "output_type": "stream",
          "name": "stdout",
          "text": [
            "Episode   35 | Reward:  440.0 | Mean(last 10):  356.40 | Std: 129.71 | Min:  132.0 | Max:  528.0 | Epsilon: 0.909\n"
          ]
        },
        {
          "output_type": "stream",
          "name": "stderr",
          "text": [
            "\r 72%|███████▏  | 36/50 [05:26<02:59, 12.83s/it]"
          ]
        },
        {
          "output_type": "stream",
          "name": "stdout",
          "text": [
            "Episode   36 | Reward:  900.0 | Mean(last 10):  420.00 | Std: 203.65 | Min:  132.0 | Max:  900.0 | Epsilon: 0.904\n"
          ]
        },
        {
          "output_type": "stream",
          "name": "stderr",
          "text": [
            "\r 74%|███████▍  | 37/50 [05:36<02:32, 11.72s/it]"
          ]
        },
        {
          "output_type": "stream",
          "name": "stdout",
          "text": [
            "Episode   37 | Reward:  440.0 | Mean(last 10):  411.20 | Std: 200.68 | Min:  132.0 | Max:  900.0 | Epsilon: 0.902\n"
          ]
        },
        {
          "output_type": "stream",
          "name": "stderr",
          "text": [
            "\r 76%|███████▌  | 38/50 [05:47<02:19, 11.61s/it]"
          ]
        },
        {
          "output_type": "stream",
          "name": "stdout",
          "text": [
            "Episode   38 | Reward:  396.0 | Mean(last 10):  406.80 | Std: 200.48 | Min:  132.0 | Max:  900.0 | Epsilon: 0.899\n"
          ]
        },
        {
          "output_type": "stream",
          "name": "stderr",
          "text": [
            "\r 78%|███████▊  | 39/50 [05:56<01:58, 10.77s/it]"
          ]
        },
        {
          "output_type": "stream",
          "name": "stdout",
          "text": [
            "Episode   39 | Reward:  132.0 | Mean(last 10):  384.80 | Std: 216.70 | Min:  132.0 | Max:  900.0 | Epsilon: 0.897\n"
          ]
        },
        {
          "output_type": "stream",
          "name": "stderr",
          "text": [
            "\r 80%|████████  | 40/50 [06:06<01:45, 10.51s/it]"
          ]
        },
        {
          "output_type": "stream",
          "name": "stdout",
          "text": [
            "Episode   40 | Reward:  660.0 | Mean(last 10):  433.20 | Std: 218.70 | Min:  132.0 | Max:  900.0 | Epsilon: 0.894\n"
          ]
        },
        {
          "output_type": "stream",
          "name": "stderr",
          "text": [
            "\r 82%|████████▏ | 41/50 [06:17<01:36, 10.77s/it]"
          ]
        },
        {
          "output_type": "stream",
          "name": "stdout",
          "text": [
            "Episode   41 | Reward:  352.0 | Mean(last 10):  415.60 | Std: 217.44 | Min:  132.0 | Max:  900.0 | Epsilon: 0.892\n"
          ]
        },
        {
          "output_type": "stream",
          "name": "stderr",
          "text": [
            "\r 84%|████████▍ | 42/50 [06:26<01:22, 10.25s/it]"
          ]
        },
        {
          "output_type": "stream",
          "name": "stdout",
          "text": [
            "Episode   42 | Reward:  264.0 | Mean(last 10):  411.20 | Std: 220.01 | Min:  132.0 | Max:  900.0 | Epsilon: 0.889\n"
          ]
        },
        {
          "output_type": "stream",
          "name": "stderr",
          "text": [
            "\r 86%|████████▌ | 43/50 [06:38<01:14, 10.62s/it]"
          ]
        },
        {
          "output_type": "stream",
          "name": "stdout",
          "text": [
            "Episode   43 | Reward:  264.0 | Mean(last 10):  398.00 | Std: 224.44 | Min:  132.0 | Max:  900.0 | Epsilon: 0.887\n"
          ]
        },
        {
          "output_type": "stream",
          "name": "stderr",
          "text": [
            "\r 88%|████████▊ | 44/50 [06:49<01:05, 10.85s/it]"
          ]
        },
        {
          "output_type": "stream",
          "name": "stdout",
          "text": [
            "Episode   44 | Reward:  352.0 | Mean(last 10):  420.00 | Std: 207.42 | Min:  132.0 | Max:  900.0 | Epsilon: 0.884\n"
          ]
        },
        {
          "output_type": "stream",
          "name": "stderr",
          "text": [
            "\r 90%|█████████ | 45/50 [07:00<00:55, 11.06s/it]"
          ]
        },
        {
          "output_type": "stream",
          "name": "stdout",
          "text": [
            "Episode   45 | Reward:  308.0 | Mean(last 10):  406.80 | Std: 209.91 | Min:  132.0 | Max:  900.0 | Epsilon: 0.881\n"
          ]
        },
        {
          "output_type": "stream",
          "name": "stderr",
          "text": [
            "\r 92%|█████████▏| 46/50 [07:12<00:44, 11.09s/it]"
          ]
        },
        {
          "output_type": "stream",
          "name": "stdout",
          "text": [
            "Episode   46 | Reward:  484.0 | Mean(last 10):  365.20 | Std: 136.40 | Min:  132.0 | Max:  660.0 | Epsilon: 0.878\n"
          ]
        },
        {
          "output_type": "stream",
          "name": "stderr",
          "text": [
            "\r 94%|█████████▍| 47/50 [07:24<00:34, 11.50s/it]"
          ]
        },
        {
          "output_type": "stream",
          "name": "stdout",
          "text": [
            "Episode   47 | Reward:  352.0 | Mean(last 10):  356.40 | Std: 134.11 | Min:  132.0 | Max:  660.0 | Epsilon: 0.875\n"
          ]
        },
        {
          "output_type": "stream",
          "name": "stderr",
          "text": [
            "\r 96%|█████████▌| 48/50 [07:34<00:22, 11.18s/it]"
          ]
        },
        {
          "output_type": "stream",
          "name": "stdout",
          "text": [
            "Episode   48 | Reward:  440.0 | Mean(last 10):  360.80 | Std: 136.04 | Min:  132.0 | Max:  660.0 | Epsilon: 0.873\n"
          ]
        },
        {
          "output_type": "stream",
          "name": "stderr",
          "text": [
            "\r 98%|█████████▊| 49/50 [07:45<00:11, 11.06s/it]"
          ]
        },
        {
          "output_type": "stream",
          "name": "stdout",
          "text": [
            "Episode   49 | Reward:  396.0 | Mean(last 10):  387.20 | Std: 112.69 | Min:  264.0 | Max:  660.0 | Epsilon: 0.870\n"
          ]
        },
        {
          "output_type": "stream",
          "name": "stderr",
          "text": [
            "100%|██████████| 50/50 [07:55<00:00,  9.50s/it]"
          ]
        },
        {
          "output_type": "stream",
          "name": "stdout",
          "text": [
            "Episode   50 | Reward:  484.0 | Mean(last 10):  369.60 | Std:  76.72 | Min:  264.0 | Max:  484.0 | Epsilon: 0.868\n"
          ]
        },
        {
          "output_type": "stream",
          "name": "stderr",
          "text": [
            "\n"
          ]
        },
        {
          "output_type": "display_data",
          "data": {
            "text/plain": [
              "<Figure size 1200x600 with 1 Axes>"
            ],
            "image/png": "[encoded data removed]"
          },
          "metadata": {}
        }
      ]
    },
    {
      "cell_type": "code",
      "source": [
        "import gymnasium as gym\n",
        "import numpy as np\n",
        "import torch\n",
        "import torch.nn as nn\n",
        "import torch.optim as optim\n",
        "import random\n",
        "from collections import deque\n",
        "from tqdm import tqdm\n",
        "import matplotlib.pyplot as plt\n",
        "import seaborn as sns\n",
        "import os\n",
        "import ale_py\n",
        "# if using gymnasium\n",
        "import shimmy\n",
        "import numpy as np\n",
        "if not hasattr(np, 'bool8'):\n",
        "    np.bool8 = np.bool_\n",
        "import gym # or \"import gymnasium as gym\"\n",
        "\n",
        "# --- Hyperparameters ---\n",
        "ENV_NAME = \"ALE/Breakout-v5\"\n",
        "GAMMA = 0.99\n",
        "LR = 1e-4\n",
        "BATCH_SIZE = 32\n",
        "MEMORY_SIZE = 100_000\n",
        "EPS_START = 1.0\n",
        "EPS_END = 0.1\n",
        "EPS_DECAY = 300_000\n",
        "TARGET_UPDATE_FREQ = 5_000\n",
        "NUM_EPISODES = 200\n",
        "START_TRAINING = 10_000\n",
        "STACK_SIZE = 4\n",
        "\n",
        "device = torch.device(\"cuda\" if torch.cuda.is_available() else \"cpu\")\n",
        "\n",
        "# --- Replay Buffer ---\n",
        "class ReplayBuffer:\n",
        "    def __init__(self, capacity):\n",
        "        self.buffer = deque(maxlen=capacity)\n",
        "    def push(self, state, action, reward, next_state, done):\n",
        "        self.buffer.append((state, action, reward, next_state, done))\n",
        "    def sample(self, batch_size):\n",
        "        batch = random.sample(self.buffer, batch_size)\n",
        "        states, actions, rewards, next_states, dones = zip(*batch)\n",
        "        return (\n",
        "            np.array(states, dtype=np.float32),\n",
        "            np.array(actions),\n",
        "            np.array(rewards, dtype=np.float32),\n",
        "            np.array(next_states, dtype=np.float32),\n",
        "            np.array(dones, dtype=np.uint8),\n",
        "        )\n",
        "    def __len__(self):\n",
        "        return len(self.buffer)\n",
        "\n",
        "# --- DQN Network ---\n",
        "class DQN(nn.Module):\n",
        "    def __init__(self, num_actions):\n",
        "        super().__init__()\n",
        "        self.model = nn.Sequential(\n",
        "            nn.Conv2d(STACK_SIZE, 32, 8, stride=4), nn.ReLU(),\n",
        "            nn.Conv2d(32, 64, 4, stride=2), nn.ReLU(),\n",
        "            nn.Conv2d(64, 64, 3, stride=1), nn.ReLU(),\n",
        "            nn.Flatten(),\n",
        "            nn.Linear(64 * 7 * 7, 512), nn.ReLU(),\n",
        "            nn.Linear(512, num_actions)\n",
        "        )\n",
        "    def forward(self, x):\n",
        "        return self.model(x)\n",
        "\n",
        "# --- Action Selection ---\n",
        "def select_action(state, epsilon, policy_net, n_actions):\n",
        "    if random.random() < epsilon:\n",
        "        return random.randint(0, n_actions - 1)\n",
        "    state_tensor = torch.tensor(state, dtype=torch.float32, device=device).unsqueeze(0)\n",
        "    with torch.no_grad():\n",
        "        q_values = policy_net(state_tensor)\n",
        "    return q_values.argmax().item()\n",
        "\n",
        "# --- Reward Plotting ---\n",
        "def plot_rewards(rewards, window=10):\n",
        "    sns.set(style=\"darkgrid\")\n",
        "    plt.figure(figsize=(12,6))\n",
        "    rewards = np.array(rewards)\n",
        "    episodes = np.arange(len(rewards))\n",
        "    running_avg = np.convolve(rewards, np.ones(window)/window, mode='valid')\n",
        "    plt.plot(episodes, rewards, color='lightblue', alpha=0.3, label='Reward per episode')\n",
        "    plt.plot(episodes[window-1:], running_avg, color='blue', label=f'{window}-episode running avg')\n",
        "    if len(running_avg) > 10:\n",
        "        std = np.std([rewards[max(0,i-window+1):i+1] for i in range(window-1, len(rewards))], axis=1)\n",
        "        plt.fill_between(episodes[window-1:], running_avg-std, running_avg+std, color='blue', alpha=0.2)\n",
        "    plt.xlabel(\"Episode\")\n",
        "    plt.ylabel(\"Reward\")\n",
        "    plt.title(\"Breakout: DQN Episode Rewards\")\n",
        "    plt.legend()\n",
        "    plt.tight_layout()\n",
        "    plt.savefig(\"breakout_dqn_rewards.png\")\n",
        "    plt.close()\n",
        "\n",
        "# --- Main Training Function ---\n",
        "def train_dqn():\n",
        "    env = gym.make(ENV_NAME, frameskip=1)\n",
        "    env = gym.wrappers.AtariPreprocessing(env, frame_skip=4, grayscale_obs=True, scale_obs=True)\n",
        "    env = gym.wrappers.FrameStack(env, STACK_SIZE)\n",
        "\n",
        "    n_actions = env.action_space.n\n",
        "    policy_net = DQN(n_actions).to(device)\n",
        "    target_net = DQN(n_actions).to(device)\n",
        "    target_net.load_state_dict(policy_net.state_dict())\n",
        "    target_net.eval()\n",
        "\n",
        "    optimizer = optim.Adam(policy_net.parameters(), lr=LR)\n",
        "    replay_buffer = ReplayBuffer(MEMORY_SIZE)\n",
        "\n",
        "    epsilon = EPS_START\n",
        "    decay_rate = (EPS_START - EPS_END) / EPS_DECAY\n",
        "    frame_count = 0\n",
        "    episode_rewards = []\n",
        "\n",
        "    for episode in tqdm(range(NUM_EPISODES), desc=\"Training\"):\n",
        "        state, _ = env.reset()\n",
        "        state = np.array(state)  # shape: (4, 84, 84)\n",
        "        episode_reward = 0\n",
        "        done = False\n",
        "\n",
        "        while not done:\n",
        "            action = select_action(state, epsilon, policy_net, n_actions)\n",
        "            next_state, reward, terminated, truncated, _ = env.step(action)\n",
        "            done = terminated or truncated\n",
        "            next_state = np.array(next_state)\n",
        "\n",
        "            replay_buffer.push(state, action, reward, next_state, done)\n",
        "            state = next_state\n",
        "            episode_reward += reward\n",
        "            frame_count += 1\n",
        "            epsilon = max(EPS_END, epsilon - decay_rate)\n",
        "\n",
        "            if len(replay_buffer) > START_TRAINING:\n",
        "                states, actions, rewards_b, next_states, dones = replay_buffer.sample(BATCH_SIZE)\n",
        "                states = torch.tensor(states, device=device)\n",
        "                actions = torch.tensor(actions, device=device).unsqueeze(1)\n",
        "                rewards_b = torch.tensor(rewards_b, device=device).unsqueeze(1)\n",
        "                next_states = torch.tensor(next_states, device=device)\n",
        "                dones = torch.tensor(dones, dtype=torch.float32, device=device).unsqueeze(1)\n",
        "\n",
        "                q_values = policy_net(states).gather(1, actions)\n",
        "                with torch.no_grad():\n",
        "                    next_q = target_net(next_states).max(1, keepdim=True)[0]\n",
        "                    target_q = rewards_b + GAMMA * next_q * (1 - dones)\n",
        "\n",
        "                loss = nn.MSELoss()(q_values, target_q)\n",
        "                optimizer.zero_grad()\n",
        "                loss.backward()\n",
        "                optimizer.step()\n",
        "\n",
        "                if frame_count % TARGET_UPDATE_FREQ == 0:\n",
        "                    target_net.load_state_dict(policy_net.state_dict())\n",
        "\n",
        "        episode_rewards.append(episode_reward)\n",
        "\n",
        "        if (episode + 1) % 10 == 0:\n",
        "            recent = episode_rewards[-10:]\n",
        "            print(f\"Ep {episode+1:4d} | R: {episode_reward:6.1f} | \"\n",
        "                  f\"Avg10: {np.mean(recent):7.2f} | Epsilon: {epsilon:.3f}\")\n",
        "\n",
        "    env.close()\n",
        "    plot_rewards(episode_rewards, window=10)\n",
        "    print(\"Training complete. Reward plot saved as 'breakout_dqn_rewards.png'.\")\n",
        "\n",
        "if __name__ == \"__main__\":\n",
        "    train_dqn()\n"
      ],
      "metadata": {
        "colab": {
          "base_uri": "https://localhost:8080/"
        },
        "id": "vL-sPOM2iVqd",
        "outputId": "0138760b-a587-4a96-9306-3c7506dbb46c"
      },
      "execution_count": 5,
      "outputs": [
        {
          "output_type": "stream",
          "name": "stderr",
          "text": [
            "Training:   5%|▌         | 10/200 [00:04<01:26,  2.20it/s]"
          ]
        },
        {
          "output_type": "stream",
          "name": "stdout",
          "text": [
            "Ep   10 | R:    1.0 | Avg10:    0.70 | Epsilon: 0.995\n"
          ]
        },
        {
          "output_type": "stream",
          "name": "stderr",
          "text": [
            "Training:  10%|█         | 20/200 [00:10<01:36,  1.87it/s]"
          ]
        },
        {
          "output_type": "stream",
          "name": "stdout",
          "text": [
            "Ep   20 | R:    0.0 | Avg10:    1.00 | Epsilon: 0.990\n"
          ]
        },
        {
          "output_type": "stream",
          "name": "stderr",
          "text": [
            "Training:  15%|█▌        | 30/200 [00:15<00:57,  2.93it/s]"
          ]
        },
        {
          "output_type": "stream",
          "name": "stdout",
          "text": [
            "Ep   30 | R:    1.0 | Avg10:    1.30 | Epsilon: 0.984\n"
          ]
        },
        {
          "output_type": "stream",
          "name": "stderr",
          "text": [
            "Training:  20%|██        | 40/200 [00:17<00:37,  4.31it/s]"
          ]
        },
        {
          "output_type": "stream",
          "name": "stdout",
          "text": [
            "Ep   40 | R:    2.0 | Avg10:    1.10 | Epsilon: 0.979\n"
          ]
        },
        {
          "output_type": "stream",
          "name": "stderr",
          "text": [
            "Training:  26%|██▌       | 51/200 [00:19<00:32,  4.59it/s]"
          ]
        },
        {
          "output_type": "stream",
          "name": "stdout",
          "text": [
            "Ep   50 | R:    2.0 | Avg10:    1.60 | Epsilon: 0.973\n"
          ]
        },
        {
          "output_type": "stream",
          "name": "stderr",
          "text": [
            "Training:  30%|███       | 60/200 [00:28<03:00,  1.29s/it]"
          ]
        },
        {
          "output_type": "stream",
          "name": "stdout",
          "text": [
            "Ep   60 | R:    2.0 | Avg10:    1.30 | Epsilon: 0.967\n"
          ]
        },
        {
          "output_type": "stream",
          "name": "stderr",
          "text": [
            "Training:  35%|███▌      | 70/200 [00:42<03:04,  1.42s/it]"
          ]
        },
        {
          "output_type": "stream",
          "name": "stdout",
          "text": [
            "Ep   70 | R:    1.0 | Avg10:    1.60 | Epsilon: 0.961\n"
          ]
        },
        {
          "output_type": "stream",
          "name": "stderr",
          "text": [
            "Training:  40%|████      | 80/200 [00:57<02:59,  1.50s/it]"
          ]
        },
        {
          "output_type": "stream",
          "name": "stdout",
          "text": [
            "Ep   80 | R:    2.0 | Avg10:    1.70 | Epsilon: 0.955\n"
          ]
        },
        {
          "output_type": "stream",
          "name": "stderr",
          "text": [
            "Training:  45%|████▌     | 90/200 [01:13<03:03,  1.67s/it]"
          ]
        },
        {
          "output_type": "stream",
          "name": "stdout",
          "text": [
            "Ep   90 | R:    3.0 | Avg10:    2.20 | Epsilon: 0.949\n"
          ]
        },
        {
          "output_type": "stream",
          "name": "stderr",
          "text": [
            "Training:  50%|█████     | 100/200 [01:25<01:54,  1.15s/it]"
          ]
        },
        {
          "output_type": "stream",
          "name": "stdout",
          "text": [
            "Ep  100 | R:    0.0 | Avg10:    0.80 | Epsilon: 0.944\n"
          ]
        },
        {
          "output_type": "stream",
          "name": "stderr",
          "text": [
            "Training:  55%|█████▌    | 110/200 [01:41<01:59,  1.32s/it]"
          ]
        },
        {
          "output_type": "stream",
          "name": "stdout",
          "text": [
            "Ep  110 | R:    1.0 | Avg10:    1.90 | Epsilon: 0.937\n"
          ]
        },
        {
          "output_type": "stream",
          "name": "stderr",
          "text": [
            "Training:  60%|██████    | 120/200 [01:56<01:46,  1.34s/it]"
          ]
        },
        {
          "output_type": "stream",
          "name": "stdout",
          "text": [
            "Ep  120 | R:    1.0 | Avg10:    1.50 | Epsilon: 0.931\n"
          ]
        },
        {
          "output_type": "stream",
          "name": "stderr",
          "text": [
            "Training:  65%|██████▌   | 130/200 [02:10<01:33,  1.34s/it]"
          ]
        },
        {
          "output_type": "stream",
          "name": "stdout",
          "text": [
            "Ep  130 | R:    1.0 | Avg10:    1.10 | Epsilon: 0.926\n"
          ]
        },
        {
          "output_type": "stream",
          "name": "stderr",
          "text": [
            "Training:  70%|███████   | 140/200 [02:24<01:19,  1.33s/it]"
          ]
        },
        {
          "output_type": "stream",
          "name": "stdout",
          "text": [
            "Ep  140 | R:    0.0 | Avg10:    1.50 | Epsilon: 0.920\n"
          ]
        },
        {
          "output_type": "stream",
          "name": "stderr",
          "text": [
            "Training:  75%|███████▌  | 150/200 [02:38<01:06,  1.33s/it]"
          ]
        },
        {
          "output_type": "stream",
          "name": "stdout",
          "text": [
            "Ep  150 | R:    2.0 | Avg10:    1.70 | Epsilon: 0.914\n"
          ]
        },
        {
          "output_type": "stream",
          "name": "stderr",
          "text": [
            "Training:  80%|████████  | 160/200 [02:52<00:53,  1.34s/it]"
          ]
        },
        {
          "output_type": "stream",
          "name": "stdout",
          "text": [
            "Ep  160 | R:    1.0 | Avg10:    1.30 | Epsilon: 0.908\n"
          ]
        },
        {
          "output_type": "stream",
          "name": "stderr",
          "text": [
            "Training:  85%|████████▌ | 170/200 [03:04<00:39,  1.32s/it]"
          ]
        },
        {
          "output_type": "stream",
          "name": "stdout",
          "text": [
            "Ep  170 | R:    1.0 | Avg10:    0.80 | Epsilon: 0.903\n"
          ]
        },
        {
          "output_type": "stream",
          "name": "stderr",
          "text": [
            "Training:  90%|█████████ | 180/200 [03:16<00:24,  1.25s/it]"
          ]
        },
        {
          "output_type": "stream",
          "name": "stdout",
          "text": [
            "Ep  180 | R:    0.0 | Avg10:    0.70 | Epsilon: 0.898\n"
          ]
        },
        {
          "output_type": "stream",
          "name": "stderr",
          "text": [
            "Training:  95%|█████████▌| 190/200 [03:31<00:14,  1.46s/it]"
          ]
        },
        {
          "output_type": "stream",
          "name": "stdout",
          "text": [
            "Ep  190 | R:    0.0 | Avg10:    1.40 | Epsilon: 0.893\n"
          ]
        },
        {
          "output_type": "stream",
          "name": "stderr",
          "text": [
            "Training: 100%|██████████| 200/200 [03:44<00:00,  1.12s/it]"
          ]
        },
        {
          "output_type": "stream",
          "name": "stdout",
          "text": [
            "Ep  200 | R:    1.0 | Avg10:    1.20 | Epsilon: 0.887\n"
          ]
        },
        {
          "output_type": "stream",
          "name": "stderr",
          "text": [
            "\n"
          ]
        },
        {
          "output_type": "stream",
          "name": "stdout",
          "text": [
            "Training complete. Reward plot saved as 'breakout_dqn_rewards.png'.\n"
          ]
        }
      ]
    },
    {
      "cell_type": "code",
      "source": [
        "import numpy as np\n",
        "import gym\n",
        "import matplotlib.pyplot as plt\n",
        "from skimage.color import rgb2gray\n",
        "from skimage.transform import resize\n",
        "import os\n",
        "import ale_py\n",
        "# if using gymnasium\n",
        "import shimmy\n",
        "import numpy as np\n",
        "if not hasattr(np, 'bool8'):\n",
        "    np.bool8 = np.bool_\n",
        "import gym # or \"import gymnasium as gym\"\n",
        "\n",
        "\n",
        "def preprocess_observation(obs, new_shape=(8, 8)):\n",
        "    \"\"\"Convert observation to grayscale and resize for discretization.\"\"\"\n",
        "    gray = rgb2gray(obs)\n",
        "    small = resize(gray, new_shape, anti_aliasing=True)\n",
        "    return (small * 255).astype(np.uint8)\n",
        "\n",
        "def create_bins(n_bins, obs_shape):\n",
        "    \"\"\"Create bins for each pixel in the downsampled observation.\"\"\"\n",
        "    return [np.linspace(0, 255, n_bins+1)[1:-1] for _ in range(np.prod(obs_shape))]\n",
        "\n",
        "def discretize_obs(obs, bins):\n",
        "    \"\"\"Discretize the observation into a tuple index.\"\"\"\n",
        "    flat = obs.flatten()\n",
        "    indices = [np.digitize(val, bins[i]) for i, val in enumerate(flat)]\n",
        "    return tuple(indices)\n",
        "\n",
        "def q_learning_beamrider(env, alpha, gamma, epsilon, min_epsilon, epsilon_decay, num_episodes, max_steps, n_bins, obs_shape):\n",
        "    bins = create_bins(n_bins, obs_shape)\n",
        "    n_actions = env.action_space.n\n",
        "    q_table_shape = [n_bins] * np.prod(obs_shape) + [n_actions]\n",
        "    q_table = np.zeros(q_table_shape, dtype=np.float32)\n",
        "    rewards = []\n",
        "\n",
        "    for episode in range(num_episodes):\n",
        "        obs = env.reset()\n",
        "        if isinstance(obs, tuple): obs = obs[0]\n",
        "        obs = preprocess_observation(obs, obs_shape)\n",
        "        state = discretize_obs(obs, bins)\n",
        "        total_reward = 0\n",
        "\n",
        "        for step in range(max_steps):\n",
        "            if np.random.rand() < epsilon:\n",
        "                action = env.action_space.sample()\n",
        "            else:\n",
        "                action = np.argmax(q_table[state])\n",
        "\n",
        "            next_obs, reward, done, *rest = env.step(action)\n",
        "            if isinstance(next_obs, tuple): next_obs = next_obs[0]\n",
        "            next_obs = preprocess_observation(next_obs, obs_shape)\n",
        "            next_state = discretize_obs(next_obs, bins)\n",
        "\n",
        "            best_next_action = np.argmax(q_table[next_state])\n",
        "            q_table[state][action] = (\n",
        "                (1 - alpha) * q_table[state][action]\n",
        "                + alpha * (reward + gamma * q_table[next_state][best_next_action])\n",
        "            )\n",
        "\n",
        "            state = next_state\n",
        "            total_reward += reward\n",
        "            if done:\n",
        "                break\n",
        "\n",
        "        epsilon = max(min_epsilon, epsilon * epsilon_decay)\n",
        "        rewards.append(total_reward)\n",
        "        if (episode + 1) % 10 == 0:\n",
        "            print(f\"Episode {episode+1}/{num_episodes}, Reward: {total_reward:.2f}\")\n",
        "\n",
        "    print(f\"Training complete. Average reward: {np.mean(rewards):.2f}\")\n",
        "    return q_table, rewards, bins\n",
        "\n",
        "def evaluate_policy(env, q_table, bins, obs_shape, num_episodes=10, max_steps=500):\n",
        "    rewards = []\n",
        "    for episode in range(num_episodes):\n",
        "        obs = env.reset()\n",
        "        if isinstance(obs, tuple): obs = obs[0]\n",
        "        obs = preprocess_observation(obs, obs_shape)\n",
        "        state = discretize_obs(obs, bins)\n",
        "        total_reward = 0\n",
        "\n",
        "        for step in range(max_steps):\n",
        "            action = np.argmax(q_table[state])\n",
        "            next_obs, reward, done, *rest = env.step(action)\n",
        "            if isinstance(next_obs, tuple): next_obs = next_obs[0]\n",
        "            next_obs = preprocess_observation(next_obs, obs_shape)\n",
        "            state = discretize_obs(next_obs, bins)\n",
        "            total_reward += reward\n",
        "            if done:\n",
        "                break\n",
        "        rewards.append(total_reward)\n",
        "        print(f\"Eval Episode {episode+1}: Reward {total_reward}\")\n",
        "    avg = np.mean(rewards)\n",
        "    print(f\"Evaluation complete. Average reward: {avg:.2f}\")\n",
        "    return avg, rewards\n",
        "\n",
        "# Hyperparameters\n",
        "alpha = 0.1\n",
        "gamma = 0.99\n",
        "epsilon = 1.0\n",
        "min_epsilon = 0.1\n",
        "epsilon_decay = 0.995\n",
        "num_episodes = 50  # BeamRider is slow to train with tabular Q-learning!\n",
        "max_steps = 500\n",
        "n_bins = 4\n",
        "obs_shape = (4, 4)  # Very small for demonstration\n",
        "\n",
        "# Initialize environment\n",
        "env = gym.make('BeamRider-v0')\n",
        "\n",
        "# Run Q-learning\n",
        "q_table, rewards, bins = q_learning_beamrider(\n",
        "    env, alpha, gamma, epsilon, min_epsilon, epsilon_decay,\n",
        "    num_episodes, max_steps, n_bins, obs_shape\n",
        ")\n",
        "\n",
        "# Plot training rewards\n",
        "plt.figure(figsize=(10,5))\n",
        "plt.plot(rewards, label='Total Reward per Episode')\n",
        "plt.xlabel('Episode')\n",
        "plt.ylabel('Total Reward')\n",
        "plt.title('Training Rewards (BeamRider Q-learning)')\n",
        "plt.legend()\n",
        "plt.show()\n",
        "\n",
        "# Evaluate policy\n",
        "avg_eval, eval_rewards = evaluate_policy(env, q_table, bins, obs_shape, num_episodes=10, max_steps=500)\n",
        "plt.figure(figsize=(10,5))\n",
        "plt.plot(eval_rewards, label='Evaluation Rewards')\n",
        "plt.xlabel('Evaluation Episode')\n",
        "plt.ylabel('Total Reward')\n",
        "plt.title('Evaluation Rewards (BeamRider Q-learning)')\n",
        "plt.legend()\n",
        "plt.show()\n",
        "\n",
        "env.close()\n"
      ],
      "metadata": {
        "colab": {
          "base_uri": "https://localhost:8080/",
          "height": 1000
        },
        "id": "qZBWg0bhrUk0",
        "outputId": "2c106f99-e1f3-4a96-a441-d2e5ce3d15e9"
      },
      "execution_count": 8,
      "outputs": [
        {
          "output_type": "stream",
          "name": "stdout",
          "text": [
            "Episode 10/50, Reward: 44.00\n",
            "Episode 20/50, Reward: 0.00\n",
            "Episode 30/50, Reward: 88.00\n",
            "Episode 40/50, Reward: 220.00\n",
            "Episode 50/50, Reward: 44.00\n",
            "Training complete. Average reward: 112.64\n"
          ]
        },
        {
          "output_type": "display_data",
          "data": {
            "text/plain": [
              "<Figure size 1000x500 with 1 Axes>"
            ],
            "image/png": "[encoded data removed]"
          },
          "metadata": {}
        },
        {
          "output_type": "stream",
          "name": "stdout",
          "text": [
            "Eval Episode 1: Reward 88.0\n",
            "Eval Episode 2: Reward 176.0\n",
            "Eval Episode 3: Reward 176.0\n",
            "Eval Episode 4: Reward 88.0\n",
            "Eval Episode 5: Reward 88.0\n",
            "Eval Episode 6: Reward 176.0\n",
            "Eval Episode 7: Reward 88.0\n",
            "Eval Episode 8: Reward 88.0\n",
            "Eval Episode 9: Reward 88.0\n",
            "Eval Episode 10: Reward 88.0\n",
            "Evaluation complete. Average reward: 114.40\n"
          ]
        },
        {
          "output_type": "display_data",
          "data": {
            "text/plain": [
              "<Figure size 1000x500 with 1 Axes>"
            ],
            "image/png": "[encoded data removed]"
          },
          "metadata": {}
        }
      ]
    }
  ]
}